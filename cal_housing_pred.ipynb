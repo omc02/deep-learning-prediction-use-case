{
 "cells": [
  {
   "cell_type": "code",
   "execution_count": 1,
   "id": "738795b2",
   "metadata": {},
   "outputs": [],
   "source": [
    "# Common imports\n",
    "import numpy as np\n",
    "import pandas as pd\n",
    "import os\n",
    "import matplotlib.pyplot as plt\n",
    "import datetime\n",
    "import warnings"
   ]
  },
  {
   "cell_type": "code",
   "execution_count": 2,
   "id": "ef3d12a1",
   "metadata": {},
   "outputs": [],
   "source": [
    "from sklearn.datasets import fetch_california_housing\n",
    "from sklearn.model_selection import train_test_split\n",
    "from sklearn.preprocessing import StandardScaler\n",
    "\n",
    "import tensorflow as tf\n",
    "from tensorflow import keras"
   ]
  },
  {
   "cell_type": "code",
   "execution_count": 3,
   "id": "55a647a1",
   "metadata": {},
   "outputs": [],
   "source": [
    "housing = fetch_california_housing()\n",
    "\n",
    "X_train_full, X_test, y_train_full, y_test = train_test_split(housing.data, housing.target, random_state=42)\n",
    "X_train, X_valid, y_train, y_valid = train_test_split(X_train_full, y_train_full, random_state=42)\n",
    "\n",
    "scaler = StandardScaler()\n",
    "X_train = scaler.fit_transform(X_train)\n",
    "X_valid = scaler.transform(X_valid)\n",
    "X_test = scaler.transform(X_test)"
   ]
  },
  {
   "cell_type": "code",
   "execution_count": 4,
   "id": "45e510ae",
   "metadata": {},
   "outputs": [
    {
     "name": "stdout",
     "output_type": "stream",
     "text": [
      "Epoch 1/20\n",
      "\u001b[1m  1/363\u001b[0m \u001b[37m━━━━━━━━━━━━━━━━━━━━\u001b[0m \u001b[1m32s\u001b[0m 89ms/step - loss: 5.8624"
     ]
    },
    {
     "name": "stderr",
     "output_type": "stream",
     "text": [
      "c:\\Users\\omarc\\AppData\\Local\\Programs\\Python\\Python310\\lib\\site-packages\\keras\\src\\layers\\core\\dense.py:87: UserWarning: Do not pass an `input_shape`/`input_dim` argument to a layer. When using Sequential models, prefer using an `Input(shape)` object as the first layer in the model instead.\n",
      "  super().__init__(activity_regularizer=activity_regularizer, **kwargs)\n"
     ]
    },
    {
     "name": "stdout",
     "output_type": "stream",
     "text": [
      "\u001b[1m363/363\u001b[0m \u001b[32m━━━━━━━━━━━━━━━━━━━━\u001b[0m\u001b[37m\u001b[0m \u001b[1m0s\u001b[0m 697us/step - loss: 1.3957 - val_loss: 8.9999\n",
      "Epoch 2/20\n",
      "\u001b[1m363/363\u001b[0m \u001b[32m━━━━━━━━━━━━━━━━━━━━\u001b[0m\u001b[37m\u001b[0m \u001b[1m0s\u001b[0m 561us/step - loss: 0.5086 - val_loss: 0.4108\n",
      "Epoch 3/20\n",
      "\u001b[1m363/363\u001b[0m \u001b[32m━━━━━━━━━━━━━━━━━━━━\u001b[0m\u001b[37m\u001b[0m \u001b[1m0s\u001b[0m 580us/step - loss: 0.4314 - val_loss: 0.3841\n",
      "Epoch 4/20\n",
      "\u001b[1m363/363\u001b[0m \u001b[32m━━━━━━━━━━━━━━━━━━━━\u001b[0m\u001b[37m\u001b[0m \u001b[1m0s\u001b[0m 553us/step - loss: 0.4061 - val_loss: 0.3814\n",
      "Epoch 5/20\n",
      "\u001b[1m363/363\u001b[0m \u001b[32m━━━━━━━━━━━━━━━━━━━━\u001b[0m\u001b[37m\u001b[0m \u001b[1m0s\u001b[0m 551us/step - loss: 0.4051 - val_loss: 0.3638\n",
      "Epoch 6/20\n",
      "\u001b[1m363/363\u001b[0m \u001b[32m━━━━━━━━━━━━━━━━━━━━\u001b[0m\u001b[37m\u001b[0m \u001b[1m0s\u001b[0m 560us/step - loss: 0.3856 - val_loss: 0.3600\n",
      "Epoch 7/20\n",
      "\u001b[1m363/363\u001b[0m \u001b[32m━━━━━━━━━━━━━━━━━━━━\u001b[0m\u001b[37m\u001b[0m \u001b[1m0s\u001b[0m 563us/step - loss: 0.3655 - val_loss: 0.3517\n",
      "Epoch 8/20\n",
      "\u001b[1m363/363\u001b[0m \u001b[32m━━━━━━━━━━━━━━━━━━━━\u001b[0m\u001b[37m\u001b[0m \u001b[1m0s\u001b[0m 562us/step - loss: 0.3767 - val_loss: 0.3495\n",
      "Epoch 9/20\n",
      "\u001b[1m363/363\u001b[0m \u001b[32m━━━━━━━━━━━━━━━━━━━━\u001b[0m\u001b[37m\u001b[0m \u001b[1m0s\u001b[0m 542us/step - loss: 0.3671 - val_loss: 0.3434\n",
      "Epoch 10/20\n",
      "\u001b[1m363/363\u001b[0m \u001b[32m━━━━━━━━━━━━━━━━━━━━\u001b[0m\u001b[37m\u001b[0m \u001b[1m0s\u001b[0m 552us/step - loss: 0.3852 - val_loss: 0.3420\n",
      "Epoch 11/20\n",
      "\u001b[1m363/363\u001b[0m \u001b[32m━━━━━━━━━━━━━━━━━━━━\u001b[0m\u001b[37m\u001b[0m \u001b[1m0s\u001b[0m 565us/step - loss: 0.3766 - val_loss: 0.3453\n",
      "Epoch 12/20\n",
      "\u001b[1m363/363\u001b[0m \u001b[32m━━━━━━━━━━━━━━━━━━━━\u001b[0m\u001b[37m\u001b[0m \u001b[1m0s\u001b[0m 551us/step - loss: 0.3510 - val_loss: 0.3412\n",
      "Epoch 13/20\n",
      "\u001b[1m363/363\u001b[0m \u001b[32m━━━━━━━━━━━━━━━━━━━━\u001b[0m\u001b[37m\u001b[0m \u001b[1m0s\u001b[0m 548us/step - loss: 0.3574 - val_loss: 0.3340\n",
      "Epoch 14/20\n",
      "\u001b[1m363/363\u001b[0m \u001b[32m━━━━━━━━━━━━━━━━━━━━\u001b[0m\u001b[37m\u001b[0m \u001b[1m0s\u001b[0m 547us/step - loss: 0.3518 - val_loss: 0.4525\n",
      "Epoch 15/20\n",
      "\u001b[1m363/363\u001b[0m \u001b[32m━━━━━━━━━━━━━━━━━━━━\u001b[0m\u001b[37m\u001b[0m \u001b[1m0s\u001b[0m 552us/step - loss: 0.3998 - val_loss: 0.3301\n",
      "Epoch 16/20\n",
      "\u001b[1m363/363\u001b[0m \u001b[32m━━━━━━━━━━━━━━━━━━━━\u001b[0m\u001b[37m\u001b[0m \u001b[1m0s\u001b[0m 551us/step - loss: 0.3509 - val_loss: 0.3291\n",
      "Epoch 17/20\n",
      "\u001b[1m363/363\u001b[0m \u001b[32m━━━━━━━━━━━━━━━━━━━━\u001b[0m\u001b[37m\u001b[0m \u001b[1m0s\u001b[0m 559us/step - loss: 0.3528 - val_loss: 0.4030\n",
      "Epoch 18/20\n",
      "\u001b[1m363/363\u001b[0m \u001b[32m━━━━━━━━━━━━━━━━━━━━\u001b[0m\u001b[37m\u001b[0m \u001b[1m0s\u001b[0m 592us/step - loss: 0.3488 - val_loss: 0.3307\n",
      "Epoch 19/20\n",
      "\u001b[1m363/363\u001b[0m \u001b[32m━━━━━━━━━━━━━━━━━━━━\u001b[0m\u001b[37m\u001b[0m \u001b[1m0s\u001b[0m 556us/step - loss: 0.3468 - val_loss: 0.3242\n",
      "Epoch 20/20\n",
      "\u001b[1m363/363\u001b[0m \u001b[32m━━━━━━━━━━━━━━━━━━━━\u001b[0m\u001b[37m\u001b[0m \u001b[1m0s\u001b[0m 604us/step - loss: 0.3519 - val_loss: 0.4489\n",
      "\u001b[1m162/162\u001b[0m \u001b[32m━━━━━━━━━━━━━━━━━━━━\u001b[0m\u001b[37m\u001b[0m \u001b[1m0s\u001b[0m 386us/step - loss: 0.3497\n",
      "\u001b[1m1/1\u001b[0m \u001b[32m━━━━━━━━━━━━━━━━━━━━\u001b[0m\u001b[37m\u001b[0m \u001b[1m0s\u001b[0m 23ms/step\n"
     ]
    }
   ],
   "source": [
    "model = keras.models.Sequential([\n",
    "    keras.layers.Dense(30, activation=\"relu\", input_shape=X_train.shape[1:]),\n",
    "    keras.layers.Dense(1)\n",
    "])\n",
    "model.compile(loss=\"mean_squared_error\", optimizer=\"sgd\")\n",
    "history = model.fit(X_train, y_train, epochs=20, validation_data=(X_valid, y_valid))\n",
    "mse_test = model.evaluate(X_test, y_test)\n",
    "X_new = X_test[:3]\n",
    "y_pred = model.predict(X_new)"
   ]
  },
  {
   "cell_type": "code",
   "execution_count": 5,
   "id": "dfbe6aec",
   "metadata": {},
   "outputs": [
    {
     "data": {
      "image/png": "[encoded data removed]",
      "text/plain": [
       "<Figure size 1200x600 with 1 Axes>"
      ]
     },
     "metadata": {},
     "output_type": "display_data"
    }
   ],
   "source": [
    "import matplotlib.pyplot as plt\n",
    "import pandas as pd\n",
    "\n",
    "plt.figure(figsize=(12, 6))  # 👈 Increase the figure size\n",
    "plt.plot(pd.DataFrame(history.history))\n",
    "plt.grid(True)\n",
    "plt.gca().set_ylim(0, 1)  # Keep Y-axis limits if needed\n",
    "plt.title(\"Training History\", fontsize=16)\n",
    "plt.xlabel(\"Epoch\", fontsize=12)\n",
    "plt.ylabel(\"Loss / Metric\", fontsize=12)\n",
    "plt.legend(pd.DataFrame(history.history).columns, fontsize=10)\n",
    "plt.show()\n"
   ]
  },
  {
   "cell_type": "code",
   "execution_count": 6,
   "id": "4bd372e9",
   "metadata": {},
   "outputs": [
    {
     "name": "stdout",
     "output_type": "stream",
     "text": [
      "\u001b[1m121/121\u001b[0m \u001b[32m━━━━━━━━━━━━━━━━━━━━\u001b[0m\u001b[37m\u001b[0m \u001b[1m0s\u001b[0m 306us/step\n",
      "Sample prediction: [1.3112286 1.6096884 2.0335903 2.3043678 2.792758 ]\n",
      "Actual values: [1.625 2.25  1.568 2.124 2.573]\n"
     ]
    }
   ],
   "source": [
    "y_pred = model.predict(X_valid)\n",
    "print(\"Sample prediction:\", y_pred[:5].flatten())\n",
    "print(\"Actual values:\", y_valid[:5])\n"
   ]
  },
  {
   "cell_type": "code",
   "execution_count": 7,
   "id": "0c7e702b",
   "metadata": {},
   "outputs": [],
   "source": [
    "model.compile(loss=\"mean_squared_error\", optimizer=\"adam\", metrics=[\"mae\"])"
   ]
  },
  {
   "cell_type": "code",
   "execution_count": 8,
   "id": "09f97833",
   "metadata": {},
   "outputs": [
    {
     "name": "stdout",
     "output_type": "stream",
     "text": [
      "📊 Data Split Proportions (based on number of samples):\n",
      "  - Training    : 11610 samples (56.25%)\n",
      "  - Validation  :  3870 samples (18.75%)\n",
      "  - Test        :  5160 samples (25.00%)\n"
     ]
    }
   ],
   "source": [
    "def print_data_split_proportions(X_train, X_valid, X_test):\n",
    "    total = len(X_train) + len(X_valid) + len(X_test)\n",
    "    \n",
    "    print(\"📊 Data Split Proportions (based on number of samples):\")\n",
    "    print(f\"  - Training    : {len(X_train):5d} samples ({len(X_train)/total:.2%})\")\n",
    "    print(f\"  - Validation  : {len(X_valid):5d} samples ({len(X_valid)/total:.2%})\")\n",
    "    print(f\"  - Test        : {len(X_test):5d} samples ({len(X_test)/total:.2%})\")\n",
    "\n",
    "print_data_split_proportions(X_train, X_valid, X_test)"
   ]
  },
  {
   "cell_type": "code",
   "execution_count": 9,
   "id": "d5f92eb8",
   "metadata": {},
   "outputs": [],
   "source": [
    "from sklearn.metrics import mean_squared_error, mean_absolute_error, r2_score\n",
    "\n",
    "def evaluate_metrics(model, X, y, dataset_name=\"Test\"):\n",
    "    y_pred = model.predict(X).flatten()\n",
    "    mse = mean_squared_error(y, y_pred)\n",
    "    mae = mean_absolute_error(y, y_pred)\n",
    "    r2 = r2_score(y, y_pred)\n",
    "\n",
    "    print(f\"📊 {dataset_name} Set Evaluation\")\n",
    "    print(f\"  - MSE : {mse:.4f}\")\n",
    "    print(f\"  - MAE : {mae:.4f}\")\n",
    "    print(f\"  - R²  : {r2:.4f}\")\n",
    "    \n",
    "    return mse, mae, r2"
   ]
  },
  {
   "cell_type": "code",
   "execution_count": 10,
   "id": "da290bd9",
   "metadata": {},
   "outputs": [
    {
     "name": "stdout",
     "output_type": "stream",
     "text": [
      "\u001b[1m121/121\u001b[0m \u001b[32m━━━━━━━━━━━━━━━━━━━━\u001b[0m\u001b[37m\u001b[0m \u001b[1m0s\u001b[0m 422us/step\n",
      "📊 Validation Set Evaluation\n",
      "  - MSE : 0.4489\n",
      "  - MAE : 0.4115\n",
      "  - R²  : 0.6586\n",
      "\u001b[1m162/162\u001b[0m \u001b[32m━━━━━━━━━━━━━━━━━━━━\u001b[0m\u001b[37m\u001b[0m \u001b[1m0s\u001b[0m 273us/step\n",
      "📊 Test Set Evaluation\n",
      "  - MSE : 0.3590\n",
      "  - MAE : 0.4147\n",
      "  - R²  : 0.7287\n"
     ]
    },
    {
     "data": {
      "text/plain": [
       "(0.35899837359223846, 0.41472310796754674, 0.7286929703733078)"
      ]
     },
     "execution_count": 10,
     "metadata": {},
     "output_type": "execute_result"
    }
   ],
   "source": [
    "evaluate_metrics(model, X_valid, y_valid, dataset_name=\"Validation\")\n",
    "evaluate_metrics(model, X_test, y_test, dataset_name=\"Test\")"
   ]
  },
  {
   "cell_type": "code",
   "execution_count": 11,
   "id": "94cfc69e",
   "metadata": {},
   "outputs": [],
   "source": [
    "import keras_tuner as kt\n",
    "from tensorflow import keras\n",
    "\n",
    "### Defining a HyperModel\n",
    "\n",
    "\n",
    "#### V1 - Basic HyperModel\n",
    "# def build_tuned_model(hp):\n",
    "#     input = keras.layers.Input(shape=(8,))\n",
    "    \n",
    "#     # Tune number of hidden layers (1 to 3)\n",
    "#     x = input\n",
    "#     for i in range(hp.Int(\"num_layers\", 1, 3)):\n",
    "#         units = hp.Int(f\"units_{i}\", min_value=16, max_value=128, step=16)\n",
    "#         x = keras.layers.Dense(units, activation=\"relu\")(x)\n",
    "        \n",
    "#         # Optional: Tune dropout\n",
    "#         if hp.Boolean(\"use_dropout\"):\n",
    "#             x = keras.layers.Dropout(rate=hp.Float(\"dropout_rate\", 0.1, 0.5, step=0.1))(x)\n",
    "    \n",
    "#     # Concatenate with original input (like the original model)\n",
    "#     concat = keras.layers.Concatenate()([input, x])\n",
    "#     output = keras.layers.Dense(1)(concat)\n",
    "\n",
    "#     model = keras.Model(inputs=input, outputs=output)\n",
    "    \n",
    "#     # Tune learning rate\n",
    "#     lr = hp.Choice(\"learning_rate\", [1e-2, 1e-3, 1e-4])\n",
    "#     model.compile(optimizer=keras.optimizers.Adam(learning_rate=lr),\n",
    "#                   loss=\"mse\", metrics=[\"mae\"])\n",
    "#     return model\n",
    "\n",
    "\n",
    "#### V2 - Advanced HyperModel with Keras Tuner\n",
    "def build_tuned_model(hp):\n",
    "    input = keras.layers.Input(shape=(8,))\n",
    "    \n",
    "    # Tune number of hidden layers (1 to 3)\n",
    "    x = input\n",
    "    for i in range(hp.Int(\"num_layers\", 1, 3)):\n",
    "        units = hp.Int(f\"units_{i}\", min_value=16, max_value=128, step=16)\n",
    "        x = keras.layers.Dense(units, activation=\"relu\")(x)\n",
    "        \n",
    "        # Optional: Tune dropout\n",
    "        if hp.Boolean(\"use_dropout\"):\n",
    "            x = keras.layers.Dropout(rate=hp.Float(\"dropout_rate\", 0.1, 0.5, step=0.1))(x)\n",
    "    \n",
    "    # Concatenate with original input\n",
    "    concat = keras.layers.Concatenate()([input, x])\n",
    "    output = keras.layers.Dense(1)(concat)\n",
    "\n",
    "    model = keras.Model(inputs=input, outputs=output)\n",
    "    \n",
    "    # Tune optimizer and learning rate\n",
    "    optimizer = hp.Choice(\"optimizer\", [\"adam\", \"rmsprop\", \"sgd\"])\n",
    "    lr = hp.Choice(\"learning_rate\", [1e-2, 1e-3, 1e-4])\n",
    "    if optimizer == \"adam\":\n",
    "        opt = keras.optimizers.Adam(learning_rate=lr)\n",
    "    elif optimizer == \"rmsprop\":\n",
    "        opt = keras.optimizers.RMSprop(learning_rate=lr)\n",
    "    else:\n",
    "        opt = keras.optimizers.SGD(learning_rate=lr)\n",
    "    \n",
    "    model.compile(optimizer=opt, loss=\"mse\", metrics=[\"mae\"])\n",
    "    return model\n"
   ]
  },
  {
   "cell_type": "code",
   "execution_count": 12,
   "id": "c128208a",
   "metadata": {},
   "outputs": [
    {
     "name": "stdout",
     "output_type": "stream",
     "text": [
      "Reloading Tuner from kt_dir\\california_housing\\tuner0.json\n"
     ]
    }
   ],
   "source": [
    "### Initializing and running the tuner\n",
    "tuner = kt.RandomSearch(\n",
    "    build_tuned_model,\n",
    "    objective=\"val_mae\",  # Minimize validation MAE\n",
    "    max_trials=10,        # Number of different models to try\n",
    "    executions_per_trial=1,\n",
    "    directory=\"kt_dir\",\n",
    "    project_name=\"california_housing\"\n",
    ")"
   ]
  },
  {
   "cell_type": "code",
   "execution_count": 13,
   "id": "21019158",
   "metadata": {},
   "outputs": [],
   "source": [
    "#### V1 - Basic HyperModel\n",
    "# tuner.search(X_train, y_train, epochs=30, validation_data=(X_valid, y_valid), verbose=1)\n",
    "\n",
    "\n",
    "#### V2 - Advanced HyperModel with Keras Tuner\n",
    "# Tune batch size and epochs\n",
    "tuner.search(\n",
    "    X_train, y_train,\n",
    "    epochs=30,  # Set a fixed range of epochs for the search\n",
    "    batch_size=32,  # Set a fixed batch size for the search\n",
    "    validation_data=(X_valid, y_valid),\n",
    "    verbose=1\n",
    ")"
   ]
  },
  {
   "cell_type": "markdown",
   "id": "42050e80",
   "metadata": {},
   "source": [
    "# Model Evaluation - Best Performing Model"
   ]
  },
  {
   "cell_type": "code",
   "execution_count": 14,
   "id": "ad049c06",
   "metadata": {},
   "outputs": [
    {
     "name": "stdout",
     "output_type": "stream",
     "text": [
      "WARNING:tensorflow:From c:\\Users\\omarc\\AppData\\Local\\Programs\\Python\\Python310\\lib\\site-packages\\keras\\src\\backend\\common\\global_state.py:82: The name tf.reset_default_graph is deprecated. Please use tf.compat.v1.reset_default_graph instead.\n",
      "\n"
     ]
    },
    {
     "name": "stderr",
     "output_type": "stream",
     "text": [
      "c:\\Users\\omarc\\AppData\\Local\\Programs\\Python\\Python310\\lib\\site-packages\\keras\\src\\saving\\saving_lib.py:757: UserWarning: Skipping variable loading for optimizer 'adam', because it has 2 variables whereas the saved optimizer has 18 variables. \n",
      "  saveable.load_own_variables(weights_store.get(inner_path))\n"
     ]
    }
   ],
   "source": [
    "# Retrieve the best model\n",
    "best_model = tuner.get_best_models(num_models=1)[0]"
   ]
  },
  {
   "cell_type": "code",
   "execution_count": 15,
   "id": "153198a3",
   "metadata": {},
   "outputs": [
    {
     "name": "stdout",
     "output_type": "stream",
     "text": [
      "\u001b[1m162/162\u001b[0m \u001b[32m━━━━━━━━━━━━━━━━━━━━\u001b[0m\u001b[37m\u001b[0m \u001b[1m0s\u001b[0m 493us/step - loss: 0.2637 - mae: 0.3578\n",
      "Test Loss: 0.2683\n",
      "Test MAE: 0.3582\n"
     ]
    }
   ],
   "source": [
    "# Evaluate the best model on the test set\n",
    "test_loss, test_mae = best_model.evaluate(X_test, y_test, verbose=1)\n",
    "print(f\"Test Loss: {test_loss:.4f}\")\n",
    "print(f\"Test MAE: {test_mae:.4f}\")"
   ]
  },
  {
   "cell_type": "code",
   "execution_count": 16,
   "id": "e548e353",
   "metadata": {},
   "outputs": [
    {
     "name": "stdout",
     "output_type": "stream",
     "text": [
      "\u001b[1m162/162\u001b[0m \u001b[32m━━━━━━━━━━━━━━━━━━━━\u001b[0m\u001b[37m\u001b[0m \u001b[1m0s\u001b[0m 418us/step\n",
      "Sample Predictions: [0.407771  0.9743499 5.3799977 2.6053739 2.6479592]\n",
      "Actual Values: [0.477   0.458   5.00001 2.186   2.78   ]\n"
     ]
    }
   ],
   "source": [
    "# Make predictions on the test set\n",
    "y_pred = best_model.predict(X_test)\n",
    "\n",
    "# Display some predictions and actual values\n",
    "print(\"Sample Predictions:\", y_pred[:5].flatten())\n",
    "print(\"Actual Values:\", y_test[:5])"
   ]
  },
  {
   "cell_type": "code",
   "execution_count": 17,
   "id": "01e88b54",
   "metadata": {},
   "outputs": [
    {
     "name": "stdout",
     "output_type": "stream",
     "text": [
      "Best Hyperparameters:\n",
      "{'num_layers': 3, 'units_0': 80, 'use_dropout': False, 'learning_rate': 0.001, 'units_1': 64, 'units_2': 112, 'dropout_rate': 0.4, 'optimizer': 'adam'}\n"
     ]
    }
   ],
   "source": [
    "# Retrieve the best hyperparameters\n",
    "best_hps = tuner.get_best_hyperparameters(num_trials=1)[0]\n",
    "print(\"Best Hyperparameters:\")\n",
    "print(best_hps.values)"
   ]
  },
  {
   "cell_type": "code",
   "execution_count": 19,
   "id": "94788e8a",
   "metadata": {},
   "outputs": [
    {
     "name": "stdout",
     "output_type": "stream",
     "text": [
      "Epoch 1/30\n"
     ]
    },
    {
     "name": "stdout",
     "output_type": "stream",
     "text": [
      "\u001b[1m363/363\u001b[0m \u001b[32m━━━━━━━━━━━━━━━━━━━━\u001b[0m\u001b[37m\u001b[0m \u001b[1m1s\u001b[0m 732us/step - loss: 0.2418 - mae: 0.3375 - val_loss: 0.4251 - val_mae: 0.3473\n",
      "Epoch 2/30\n",
      "\u001b[1m363/363\u001b[0m \u001b[32m━━━━━━━━━━━━━━━━━━━━\u001b[0m\u001b[37m\u001b[0m \u001b[1m0s\u001b[0m 716us/step - loss: 0.2382 - mae: 0.3350 - val_loss: 0.3636 - val_mae: 0.3527\n",
      "Epoch 3/30\n",
      "\u001b[1m363/363\u001b[0m \u001b[32m━━━━━━━━━━━━━━━━━━━━\u001b[0m\u001b[37m\u001b[0m \u001b[1m0s\u001b[0m 804us/step - loss: 0.2362 - mae: 0.3331 - val_loss: 0.8792 - val_mae: 0.3739\n",
      "Epoch 4/30\n",
      "\u001b[1m363/363\u001b[0m \u001b[32m━━━━━━━━━━━━━━━━━━━━\u001b[0m\u001b[37m\u001b[0m \u001b[1m0s\u001b[0m 801us/step - loss: 0.2338 - mae: 0.3337 - val_loss: 0.4357 - val_mae: 0.3635\n",
      "Epoch 5/30\n",
      "\u001b[1m363/363\u001b[0m \u001b[32m━━━━━━━━━━━━━━━━━━━━\u001b[0m\u001b[37m\u001b[0m \u001b[1m0s\u001b[0m 830us/step - loss: 0.2303 - mae: 0.3327 - val_loss: 0.5984 - val_mae: 0.3536\n",
      "Epoch 6/30\n",
      "\u001b[1m363/363\u001b[0m \u001b[32m━━━━━━━━━━━━━━━━━━━━\u001b[0m\u001b[37m\u001b[0m \u001b[1m0s\u001b[0m 811us/step - loss: 0.2292 - mae: 0.3300 - val_loss: 0.3568 - val_mae: 0.3529\n",
      "Epoch 7/30\n",
      "\u001b[1m363/363\u001b[0m \u001b[32m━━━━━━━━━━━━━━━━━━━━\u001b[0m\u001b[37m\u001b[0m \u001b[1m0s\u001b[0m 716us/step - loss: 0.2247 - mae: 0.3285 - val_loss: 0.4954 - val_mae: 0.3794\n",
      "Epoch 8/30\n",
      "\u001b[1m363/363\u001b[0m \u001b[32m━━━━━━━━━━━━━━━━━━━━\u001b[0m\u001b[37m\u001b[0m \u001b[1m0s\u001b[0m 770us/step - loss: 0.2276 - mae: 0.3318 - val_loss: 0.2629 - val_mae: 0.3441\n",
      "Epoch 9/30\n",
      "\u001b[1m363/363\u001b[0m \u001b[32m━━━━━━━━━━━━━━━━━━━━\u001b[0m\u001b[37m\u001b[0m \u001b[1m0s\u001b[0m 801us/step - loss: 0.2184 - mae: 0.3225 - val_loss: 0.9170 - val_mae: 0.3685\n",
      "Epoch 10/30\n",
      "\u001b[1m363/363\u001b[0m \u001b[32m━━━━━━━━━━━━━━━━━━━━\u001b[0m\u001b[37m\u001b[0m \u001b[1m0s\u001b[0m 716us/step - loss: 0.2299 - mae: 0.3292 - val_loss: 0.2999 - val_mae: 0.3500\n",
      "Epoch 11/30\n",
      "\u001b[1m363/363\u001b[0m \u001b[32m━━━━━━━━━━━━━━━━━━━━\u001b[0m\u001b[37m\u001b[0m \u001b[1m0s\u001b[0m 711us/step - loss: 0.2112 - mae: 0.3185 - val_loss: 0.6888 - val_mae: 0.3589\n",
      "Epoch 12/30\n",
      "\u001b[1m363/363\u001b[0m \u001b[32m━━━━━━━━━━━━━━━━━━━━\u001b[0m\u001b[37m\u001b[0m \u001b[1m0s\u001b[0m 793us/step - loss: 0.2299 - mae: 0.3288 - val_loss: 0.2598 - val_mae: 0.3465\n",
      "Epoch 13/30\n",
      "\u001b[1m363/363\u001b[0m \u001b[32m━━━━━━━━━━━━━━━━━━━━\u001b[0m\u001b[37m\u001b[0m \u001b[1m0s\u001b[0m 805us/step - loss: 0.2088 - mae: 0.3190 - val_loss: 0.3828 - val_mae: 0.3485\n",
      "Epoch 14/30\n",
      "\u001b[1m363/363\u001b[0m \u001b[32m━━━━━━━━━━━━━━━━━━━━\u001b[0m\u001b[37m\u001b[0m \u001b[1m0s\u001b[0m 755us/step - loss: 0.2058 - mae: 0.3143 - val_loss: 0.2595 - val_mae: 0.3423\n",
      "Epoch 15/30\n",
      "\u001b[1m363/363\u001b[0m \u001b[32m━━━━━━━━━━━━━━━━━━━━\u001b[0m\u001b[37m\u001b[0m \u001b[1m0s\u001b[0m 717us/step - loss: 0.2066 - mae: 0.3133 - val_loss: 0.4983 - val_mae: 0.3747\n",
      "Epoch 16/30\n",
      "\u001b[1m363/363\u001b[0m \u001b[32m━━━━━━━━━━━━━━━━━━━━\u001b[0m\u001b[37m\u001b[0m \u001b[1m0s\u001b[0m 723us/step - loss: 0.2111 - mae: 0.3216 - val_loss: 0.2679 - val_mae: 0.3424\n",
      "Epoch 17/30\n",
      "\u001b[1m363/363\u001b[0m \u001b[32m━━━━━━━━━━━━━━━━━━━━\u001b[0m\u001b[37m\u001b[0m \u001b[1m0s\u001b[0m 713us/step - loss: 0.2097 - mae: 0.3218 - val_loss: 0.3570 - val_mae: 0.3520\n",
      "Epoch 18/30\n",
      "\u001b[1m363/363\u001b[0m \u001b[32m━━━━━━━━━━━━━━━━━━━━\u001b[0m\u001b[37m\u001b[0m \u001b[1m0s\u001b[0m 714us/step - loss: 0.2073 - mae: 0.3144 - val_loss: 0.2628 - val_mae: 0.3475\n",
      "Epoch 19/30\n",
      "\u001b[1m363/363\u001b[0m \u001b[32m━━━━━━━━━━━━━━━━━━━━\u001b[0m\u001b[37m\u001b[0m \u001b[1m0s\u001b[0m 767us/step - loss: 0.2112 - mae: 0.3194 - val_loss: 0.2643 - val_mae: 0.3482\n",
      "Epoch 20/30\n",
      "\u001b[1m363/363\u001b[0m \u001b[32m━━━━━━━━━━━━━━━━━━━━\u001b[0m\u001b[37m\u001b[0m \u001b[1m0s\u001b[0m 702us/step - loss: 0.2113 - mae: 0.3180 - val_loss: 0.5390 - val_mae: 0.3575\n",
      "Epoch 21/30\n",
      "\u001b[1m363/363\u001b[0m \u001b[32m━━━━━━━━━━━━━━━━━━━━\u001b[0m\u001b[37m\u001b[0m \u001b[1m0s\u001b[0m 698us/step - loss: 0.2025 - mae: 0.3147 - val_loss: 0.4540 - val_mae: 0.3493\n",
      "Epoch 22/30\n",
      "\u001b[1m363/363\u001b[0m \u001b[32m━━━━━━━━━━━━━━━━━━━━\u001b[0m\u001b[37m\u001b[0m \u001b[1m0s\u001b[0m 712us/step - loss: 0.2058 - mae: 0.3116 - val_loss: 1.0128 - val_mae: 0.3590\n",
      "Epoch 23/30\n",
      "\u001b[1m363/363\u001b[0m \u001b[32m━━━━━━━━━━━━━━━━━━━━\u001b[0m\u001b[37m\u001b[0m \u001b[1m0s\u001b[0m 708us/step - loss: 0.2175 - mae: 0.3153 - val_loss: 0.3061 - val_mae: 0.3572\n",
      "Epoch 24/30\n",
      "\u001b[1m363/363\u001b[0m \u001b[32m━━━━━━━━━━━━━━━━━━━━\u001b[0m\u001b[37m\u001b[0m \u001b[1m0s\u001b[0m 719us/step - loss: 0.2020 - mae: 0.3112 - val_loss: 0.6707 - val_mae: 0.3537\n",
      "Epoch 25/30\n",
      "\u001b[1m363/363\u001b[0m \u001b[32m━━━━━━━━━━━━━━━━━━━━\u001b[0m\u001b[37m\u001b[0m \u001b[1m0s\u001b[0m 702us/step - loss: 0.2078 - mae: 0.3123 - val_loss: 0.3706 - val_mae: 0.3486\n",
      "Epoch 26/30\n",
      "\u001b[1m363/363\u001b[0m \u001b[32m━━━━━━━━━━━━━━━━━━━━\u001b[0m\u001b[37m\u001b[0m \u001b[1m0s\u001b[0m 711us/step - loss: 0.1902 - mae: 0.3028 - val_loss: 0.4341 - val_mae: 0.3660\n",
      "Epoch 27/30\n",
      "\u001b[1m363/363\u001b[0m \u001b[32m━━━━━━━━━━━━━━━━━━━━\u001b[0m\u001b[37m\u001b[0m \u001b[1m0s\u001b[0m 725us/step - loss: 0.1905 - mae: 0.3050 - val_loss: 0.3514 - val_mae: 0.3485\n",
      "Epoch 28/30\n",
      "\u001b[1m363/363\u001b[0m \u001b[32m━━━━━━━━━━━━━━━━━━━━\u001b[0m\u001b[37m\u001b[0m \u001b[1m0s\u001b[0m 743us/step - loss: 0.1827 - mae: 0.2985 - val_loss: 0.3750 - val_mae: 0.3526\n",
      "Epoch 29/30\n",
      "\u001b[1m363/363\u001b[0m \u001b[32m━━━━━━━━━━━━━━━━━━━━\u001b[0m\u001b[37m\u001b[0m \u001b[1m0s\u001b[0m 717us/step - loss: 0.1868 - mae: 0.3041 - val_loss: 0.2705 - val_mae: 0.3383\n",
      "Epoch 30/30\n",
      "\u001b[1m363/363\u001b[0m \u001b[32m━━━━━━━━━━━━━━━━━━━━\u001b[0m\u001b[37m\u001b[0m \u001b[1m0s\u001b[0m 728us/step - loss: 0.1848 - mae: 0.2988 - val_loss: 0.2722 - val_mae: 0.3478\n"
     ]
    },
    {
     "data": {
      "image/png": "[encoded data removed]",
      "text/plain": [
       "<Figure size 640x480 with 1 Axes>"
      ]
     },
     "metadata": {},
     "output_type": "display_data"
    }
   ],
   "source": [
    "# Re-train the best model to capture the training history\n",
    "history = best_model.fit(\n",
    "    X_train, y_train,\n",
    "    epochs=30,  # Use the same number of epochs as in the tuning process\n",
    "    validation_data=(X_valid, y_valid),\n",
    "    batch_size=32,  # Use the same batch size as in the tuning process\n",
    "    verbose=1\n",
    ")\n",
    "\n",
    "# Plot the training history\n",
    "import matplotlib.pyplot as plt\n",
    "plt.plot(history.history['loss'], label='Training Loss')\n",
    "plt.plot(history.history['val_loss'], label='Validation Loss')\n",
    "plt.xlabel('Epochs')\n",
    "plt.ylabel('Loss')\n",
    "plt.legend()\n",
    "plt.title('Training and Validation Loss')\n",
    "plt.show()"
   ]
  }
 ],
 "metadata": {
  "kernelspec": {
   "display_name": "Python 3",
   "language": "python",
   "name": "python3"
  },
  "language_info": {
   "codemirror_mode": {
    "name": "ipython",
    "version": 3
   },
   "file_extension": ".py",
   "mimetype": "text/x-python",
   "name": "python",
   "nbconvert_exporter": "python",
   "pygments_lexer": "ipython3",
   "version": "3.10.11"
  }
 },
 "nbformat": 4,
 "nbformat_minor": 5
}
